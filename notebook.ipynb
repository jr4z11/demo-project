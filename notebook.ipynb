{
 "cells": [
  {
   "cell_type": "code",
   "execution_count": 16,
   "metadata": {},
   "outputs": [
    {
     "name": "stdout",
     "output_type": "stream",
     "text": [
      "Abdulrahman , Your BMI is:  23.355636914530994\n",
      "Abdulrahman , You are normal weight\n"
     ]
    }
   ],
   "source": [
    "Name = input(\"Enter your name: \")\n",
    "weight = int(input(\"Enter your weight in kg: \"))\n",
    "height = int(input(\"Enter your height in cm: \"))\n",
    "\n",
    "BMI = weight / (height/100)**2\n",
    "\n",
    "print(Name +\", Your BMI is: \", BMI)\n",
    "\n",
    "if BMI > 0:\n",
    "    if BMI < 18.5:\n",
    "        print(Name + \", You are underweight\")\n",
    "    elif BMI >= 18.5 and BMI < 24.9:\n",
    "        print(Name + \", You are normal weight\")\n",
    "    elif BMI > 25 and BMI < 29.9:\n",
    "        print(Name +\", You are overweight\")\n",
    "    elif BMI > 30 and BMI < 34.9:\n",
    "        print(Name +\", You are obese\")\n",
    "    elif BMI > 35 and BMI < 39.9:\n",
    "        print(Name +\", You are severely obese\")\n",
    "    else:\n",
    "        print(Name +\", You are morbidly obese\")\n",
    "else:\n",
    "    print(Name +\", Enter valid details\")"
   ]
  }
 ],
 "metadata": {
  "kernelspec": {
   "display_name": "Python 3",
   "language": "python",
   "name": "python3"
  },
  "language_info": {
   "codemirror_mode": {
    "name": "ipython",
    "version": 3
   },
   "file_extension": ".py",
   "mimetype": "text/x-python",
   "name": "python",
   "nbconvert_exporter": "python",
   "pygments_lexer": "ipython3",
   "version": "3.11.9"
  }
 },
 "nbformat": 4,
 "nbformat_minor": 2
}
